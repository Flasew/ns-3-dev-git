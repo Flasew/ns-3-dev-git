{
 "cells": [
  {
   "cell_type": "code",
   "execution_count": 34,
   "metadata": {},
   "outputs": [
    {
     "name": "stdout",
     "output_type": "stream",
     "text": [
      "(64, 11.07499)\n",
      "(90, 11.82086)\n",
      "(128, 8.56497)\n",
      "(181, 11.27823)\n",
      "(256, 8.65922)\n",
      "(362, 13.29393)\n",
      "(512, 8.72023)\n",
      "(724, 10.03284)\n",
      "(1024, 11.03221)\n",
      "(1448, 12.22048)\n",
      "(2048, 11.06701)\n",
      "(2896, 17.8241)\n",
      "(4096, 11.42441)\n",
      "(5792, 14.34429)\n",
      "(8192, 11.5919)\n",
      "(11585, 12.17566)\n",
      "(16384, 11.582619999999999)\n",
      "(23170, 10.48333)\n",
      "(32768, 10.423720000000001)\n",
      "(46340, 10.498230000000001)\n",
      "(65536, 10.14121)\n",
      "(92681, 10.09663)\n",
      "(131072, 10.093300000000001)\n",
      "(185363, 10.026710000000001)\n",
      "(262144, 10.02538)\n",
      "(370727, 9.890070000000001)\n",
      "(524288, 9.79249)\n",
      "(741455, 9.597090000000001)\n",
      "(1048576, 9.38733)\n"
     ]
    }
   ],
   "source": [
    "# Ignoring TCP fast retransmit and RTO\n",
    "\n",
    "r = 5500000000/8  # link rate (at fast link)\n",
    "d = 0.001        # delay time (at fast link, s)\n",
    "# s =              # switch time factor\n",
    "n = 5              # delay time factor\n",
    "m = 1              # 1/link rate factor \n",
    "ql = 150000        # queue length (Bytes)\n",
    "# mdc = 0\n",
    "# mdf = False\n",
    "\n",
    "a = 100            # \"resolution\"\n",
    "\n",
    "# (Recursive) Relation for number packet going into the queue at time t\n",
    "def out_time(r, d, s, n, m, ql, a, outbytes):\n",
    "    total_iter = 214748364\n",
    "#     print(total_iter)\n",
    "    qarr = ([ql] * total_iter)\n",
    "    pinarr = [0] * total_iter\n",
    "    poutarr = [0] * total_iter\n",
    "    def pin(t):\n",
    "        if t < 0: \n",
    "            return 0\n",
    "        pinarr[t] = (\n",
    "            (poutarr[int(t-2*a)] if ((t-2*a)//(s*a))%2==0 and ((t-a)//(s*a))%2==0 else 0) +\n",
    "            (poutarr[int(t-(2*n*a))] if ((t-(2*n*a))//(s*a))%2==1 and ((t-n*a)//(s*a))%2==1 else 0) +\n",
    "            (poutarr[int(t-(n+1)*a)] if ((t-n*a)//(s*a))%2==1 and ((t-(n+1)*a)//(s*a))%2==0 else 0) +\n",
    "            (poutarr[int(t-(n+1)*a)] if ((t-a)//(s*a))%2==0 and ((t-(n+1)*a)//(s*a))%2==1 else 0) \n",
    "        ) + 1500/(n+1)/a\n",
    "        return pinarr[t]\n",
    "\n",
    "    # (Recursive) Relation number packet going out of the queue at time t\n",
    "    def pout(t):\n",
    "        if t < 0: \n",
    "            return 0\n",
    "        poutarr[t] = min(pinarr[t] + qarr[t-1], (r*d/a if (t//(s*a))%2==0 else r*d/m/a))\n",
    "        return poutarr[t]\n",
    "\n",
    "    # (Recursive) Relation for queue length at time t\n",
    "    def q(t):\n",
    "        # Some Initial condition...  \n",
    "        if t < 0:  \n",
    "            return 0\n",
    "        if t <= a:\n",
    "            qarr[t] = ql\n",
    "            return ql\n",
    "        res = qarr[t-1] + pinarr[t] - poutarr[t]\n",
    "        if res > ql:\n",
    "            qarr[t] = (ql - poutarr[t])/2 # Fake MD\n",
    "            return qarr[t]\n",
    "        qarr[t] = res\n",
    "        return res\n",
    "    \n",
    "    total_out = 0\n",
    "    for t in range(total_iter):\n",
    "        pin(t)\n",
    "        pout(t)\n",
    "        q(t)\n",
    "        total_out += poutarr[t]\n",
    "        if total_out > outbytes:\n",
    "            return t * d / a\n",
    "        \n",
    "    return -1\n",
    "\n",
    "st = [64, 90, 128, 181, 256, 362, 512, 724, 1024, 1448, 2048, 2896, 4096, 5792, 8192, 11585, 16384, 23170, 32768, 46340, 65536, 92681, 131072, 185363, 262144, 370727, 524288, 741455, 1048576]\n",
    "tresults = []\n",
    "for s, t in zip([(t*1e-6)/d for t in st], st):\n",
    "    tresults.append((t, out_time(r, d, s, n, m, ql, a, 4000000000)))\n",
    "    print(tresults[-1])\n",
    "# plt.plot(qarr)\n",
    "# print(sum([poutarr[i] for i in range(1000000)]))\n",
    "    \n",
    "\n"
   ]
  },
  {
   "cell_type": "code",
   "execution_count": 30,
   "metadata": {},
   "outputs": [],
   "source": [
    "dynbw1000result = tresults2"
   ]
  },
  {
   "cell_type": "code",
   "execution_count": 42,
   "metadata": {},
   "outputs": [],
   "source": [
    "import os\n",
    "os.getcwd()\n",
    "# names=['tstamp', 'dt', 'nflows', 'ql', 'delay', 'fct', 'retrans', 'rto', 'syn', 'rtt'])\n",
    "with open(\"/home/wew168/final_logs/finalpdata/pdataCDNUM\", \"w\") as f:\n",
    "    for i, res in enumerate(dynlt1000result):\n",
    "        f.write(\"{:d}\\t{:d}\\t{:d}\\t{:d}\\t{:d}\\t{:d}\\t{:d}\\t{:d}\\t{:d}\\t{:d}\\n\".format(i, res[0], 1, 100, 1000, int(1e6*res[1]), 0, 0, 0, 0))"
   ]
  },
  {
   "cell_type": "code",
   "execution_count": 36,
   "metadata": {},
   "outputs": [],
   "source": [
    "dynlt1000result = tresults"
   ]
  },
  {
   "cell_type": "code",
   "execution_count": 40,
   "metadata": {},
   "outputs": [
    {
     "data": {
      "text/plain": [
       "[(64, 11.07499),\n",
       " (90, 11.82086),\n",
       " (128, 8.56497),\n",
       " (181, 11.27823),\n",
       " (256, 8.65922),\n",
       " (362, 13.29393),\n",
       " (512, 8.72023),\n",
       " (724, 10.03284),\n",
       " (1024, 11.03221),\n",
       " (1448, 12.22048),\n",
       " (2048, 11.06701),\n",
       " (2896, 17.8241),\n",
       " (4096, 11.42441),\n",
       " (5792, 14.34429),\n",
       " (8192, 11.5919),\n",
       " (11585, 12.17566),\n",
       " (16384, 11.582619999999999),\n",
       " (23170, 10.48333),\n",
       " (32768, 10.423720000000001),\n",
       " (46340, 10.498230000000001),\n",
       " (65536, 10.14121),\n",
       " (92681, 10.09663),\n",
       " (131072, 10.093300000000001),\n",
       " (185363, 10.026710000000001),\n",
       " (262144, 10.02538),\n",
       " (370727, 9.890070000000001),\n",
       " (524288, 9.79249),\n",
       " (741455, 9.597090000000001),\n",
       " (1048576, 9.38733)]"
      ]
     },
     "execution_count": 40,
     "metadata": {},
     "output_type": "execute_result"
    }
   ],
   "source": [
    "dynlt1000result"
   ]
  },
  {
   "cell_type": "code",
   "execution_count": 51,
   "metadata": {},
   "outputs": [
    {
     "data": {
      "image/png": "[encoded data removed]",
      "text/plain": [
       "<Figure size 144x72 with 1 Axes>"
      ]
     },
     "metadata": {
      "needs_background": "light"
     },
     "output_type": "display_data"
    }
   ],
   "source": [
    "import seaborn as sns\n",
    "# sns.palplot(sns.color_palette(\"husl\", 3))\n",
    "sns.palplot(sns.color_palette([\"#4db041\", \"#0fa5e8\"]))"
   ]
  },
  {
   "cell_type": "code",
   "execution_count": null,
   "metadata": {},
   "outputs": [],
   "source": []
  }
 ],
 "metadata": {
  "kernelspec": {
   "display_name": "Python 3",
   "language": "python",
   "name": "python3"
  },
  "language_info": {
   "codemirror_mode": {
    "name": "ipython",
    "version": 3
   },
   "file_extension": ".py",
   "mimetype": "text/x-python",
   "name": "python",
   "nbconvert_exporter": "python",
   "pygments_lexer": "ipython3",
   "version": "3.6.8"
  }
 },
 "nbformat": 4,
 "nbformat_minor": 2
}
